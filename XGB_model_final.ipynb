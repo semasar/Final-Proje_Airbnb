{
 "cells": [
  {
   "cell_type": "code",
   "execution_count": 7,
   "metadata": {},
   "outputs": [],
   "source": [
    "import numpy as np # linear algebra\n",
    "import pandas as pd # data processing, CSV file I/O (e.g. pd.read_csv)\n",
    "import seaborn as sb\n",
    "from sklearn.preprocessing import  LabelEncoder, StandardScaler\n",
    "from sklearn.model_selection import train_test_split, GridSearchCV, cross_val_score, KFold\n",
    "from sklearn import metrics\n",
    "from sklearn.linear_model import LinearRegression\n",
    "from sklearn.preprocessing import PolynomialFeatures\n",
    "from sklearn.pipeline import Pipeline\n",
    "from catboost import CatBoostRegressor\n",
    "from sklearn.ensemble import GradientBoostingRegressor\n",
    "from xgboost import XGBRegressor\n",
    "from sklearn.ensemble import RandomForestRegressor\n",
    "pd.options.display.max_columns = 0\n",
    "from sklearn.linear_model import LinearRegression\n",
    "from sklearn.preprocessing import PolynomialFeatures\n",
    "from catboost import CatBoostRegressor\n",
    "from sklearn.ensemble import GradientBoostingRegressor\n",
    "from xgboost import XGBRegressor\n",
    "from sklearn.ensemble import RandomForestRegressor"
   ]
  },
  {
   "cell_type": "code",
   "execution_count": 8,
   "metadata": {},
   "outputs": [],
   "source": [
    "df_origin = pd.read_csv('train.csv')\n",
    "final_df = pd.read_csv('df_final.csv')"
   ]
  },
  {
   "cell_type": "code",
   "execution_count": 9,
   "metadata": {},
   "outputs": [
    {
     "data": {
      "text/plain": [
       "(73951, 77)"
      ]
     },
     "execution_count": 9,
     "metadata": {},
     "output_type": "execute_result"
    }
   ],
   "source": [
    "final_df.shape"
   ]
  },
  {
   "cell_type": "code",
   "execution_count": 10,
   "metadata": {},
   "outputs": [],
   "source": [
    "X = final_df.drop(['log_price'], axis =1)\n",
    "#X=final_df[important_columns]\n",
    "y = final_df.log_price"
   ]
  },
  {
   "cell_type": "code",
   "execution_count": 11,
   "metadata": {},
   "outputs": [
    {
     "data": {
      "text/plain": [
       "log_price                              0\n",
       "accommodates                           0\n",
       "bathrooms                              0\n",
       "cleaning_fee                           0\n",
       "host_has_profile_pic                   0\n",
       "host_identity_verified                 0\n",
       "instant_bookable                       0\n",
       "number_of_reviews                      0\n",
       "thumbnail_url                          0\n",
       "property_type_Apartment                0\n",
       "property_type_Bed & Breakfast          0\n",
       "property_type_Boat                     0\n",
       "property_type_Boutique hotel           0\n",
       "property_type_Bungalow                 0\n",
       "property_type_Cabin                    0\n",
       "property_type_Camper/RV                0\n",
       "property_type_Condominium              0\n",
       "property_type_Dorm                     0\n",
       "property_type_Guest suite              0\n",
       "property_type_Guesthouse               0\n",
       "property_type_Hostel                   0\n",
       "property_type_House                    0\n",
       "property_type_In-law                   0\n",
       "property_type_Loft                     0\n",
       "property_type_Other                    0\n",
       "property_type_Timeshare                0\n",
       "property_type_Townhouse                0\n",
       "property_type_Villa                    0\n",
       "cancellation_policy_flexible           0\n",
       "cancellation_policy_moderate           0\n",
       "cancellation_policy_strict             0\n",
       "cancellation_policy_super_strict_30    0\n",
       "cancellation_policy_super_strict_60    0\n",
       "bed_type_Airbed                        0\n",
       "bed_type_Couch                         0\n",
       "bed_type_Futon                         0\n",
       "bed_type_Pull-out Sofa                 0\n",
       "bed_type_Real Bed                      0\n",
       "room_type_Entire home/apt              0\n",
       "room_type_Private room                 0\n",
       "room_type_Shared room                  0\n",
       "check_in_24h                           0\n",
       "air_conditioning                       0\n",
       "high_end_electronics                   0\n",
       "bbq                                    0\n",
       "balcony                                0\n",
       "breakfast                              0\n",
       "tv                                     0\n",
       "coffee_machine                         0\n",
       "cooking_basics                         0\n",
       "dtype: int64"
      ]
     },
     "execution_count": 11,
     "metadata": {},
     "output_type": "execute_result"
    }
   ],
   "source": [
    "final_df.isnull().sum()[:50]"
   ]
  },
  {
   "cell_type": "code",
   "execution_count": 12,
   "metadata": {},
   "outputs": [],
   "source": [
    "# df_random_10_percent = final_df.sample(frac=0.10)"
   ]
  },
  {
   "cell_type": "code",
   "execution_count": 13,
   "metadata": {},
   "outputs": [],
   "source": [
    "from sklearn.model_selection import train_test_split\n",
    "\n",
    "x_train, x_test, y_train, y_test = train_test_split(X,y,test_size=0.2,random_state=101)\n"
   ]
  },
  {
   "attachments": {},
   "cell_type": "markdown",
   "metadata": {},
   "source": [
    "## XGB Regresor "
   ]
  },
  {
   "cell_type": "code",
   "execution_count": 14,
   "metadata": {},
   "outputs": [
    {
     "name": "stdout",
     "output_type": "stream",
     "text": [
      "\n",
      "Mean Absolute Error of XGBoost Regressor     :  0.2792732831090462\n",
      "\n",
      "Mean Squarred Error of XGBoost Regressor     :  0.14413290018750266\n",
      "\n",
      "Root Mean Squarred Error of XGBoost Regressor:  0.3796483902079695\n",
      "\n",
      "R2 Score of XGBoost Regressor                :  0.7139722806726368\n"
     ]
    }
   ],
   "source": [
    "from xgboost import XGBRegressor\n",
    "from sklearn import metrics\n",
    "\n",
    "xgb = XGBRegressor(objective='reg:squarederror')\n",
    "\n",
    "xgb.fit(x_train, y_train)\n",
    "\n",
    "y_pred_xgb = xgb.predict(x_test)\n",
    "\n",
    "mae_xgb  = metrics.mean_absolute_error(y_test, y_pred_xgb)\n",
    "mse_xgb  = metrics.mean_squared_error(y_test, y_pred_xgb)\n",
    "rmse_xgb = np.sqrt(metrics.mean_squared_error(y_test, y_pred_xgb))\n",
    "r2_xgb   = metrics.r2_score(y_test, y_pred_xgb)\n",
    "\n",
    "\n",
    "print('\\nMean Absolute Error of XGBoost Regressor     : ', mae_xgb)\n",
    "print('\\nMean Squarred Error of XGBoost Regressor     : ', mse_xgb)\n",
    "print('\\nRoot Mean Squarred Error of XGBoost Regressor: ', rmse_xgb)\n",
    "print('\\nR2 Score of XGBoost Regressor                : ', r2_xgb)"
   ]
  },
  {
   "cell_type": "code",
   "execution_count": 15,
   "metadata": {},
   "outputs": [],
   "source": [
    "feature_importances = xgb.feature_importances_"
   ]
  },
  {
   "cell_type": "code",
   "execution_count": 16,
   "metadata": {},
   "outputs": [
    {
     "data": {
      "text/plain": [
       "[(0.6941195, 'room_type_Entire home/apt'),\n",
       " (0.05604602, 'bathrooms'),\n",
       " (0.01930958, 'room_type_Private room'),\n",
       " (0.01387886, 'LA'),\n",
       " (0.012481095, 'property_type_Hostel'),\n",
       " (0.012321885, 'accommodates'),\n",
       " (0.009532416, 'tv'),\n",
       " (0.009350216, 'SF'),\n",
       " (0.008605493, 'median_home_value'),\n",
       " (0.008194826, 'distance_to_center'),\n",
       " (0.0071072113, 'elevator'),\n",
       " (0.0069629727, 'DC'),\n",
       " (0.0067306585, 'property_type_Apartment'),\n",
       " (0.005089989, 'NYC'),\n",
       " (0.004777285, 'time_since_last_review'),\n",
       " (0.00423435, 'property_type_House'),\n",
       " (0.004213074, 'gym'),\n",
       " (0.0041391565, 'number_of_reviews'),\n",
       " (0.0038840815, 'property_type_Dorm'),\n",
       " (0.0035256096, 'cleaning_fee'),\n",
       " (0.003446382, 'Chicago'),\n",
       " (0.0034362033, 'white_goods'),\n",
       " (0.0033053802, 'internet'),\n",
       " (0.0032769875, 'thumbnail_url'),\n",
       " (0.003222486, 'event_suitable'),\n",
       " (0.0029246374, 'property_type_Loft'),\n",
       " (0.0028901484, 'bed_type_Real Bed'),\n",
       " (0.0027810088, 'room_type_Shared room'),\n",
       " (0.0027196554, 'child_friendly'),\n",
       " (0.0026902214, 'property_type_Condominium'),\n",
       " (0.0026834898, 'property_type_Other'),\n",
       " (0.0025979227, 'super_host'),\n",
       " (0.0025333269, 'breakfast'),\n",
       " (0.0025085832, 'bed_type_Pull-out Sofa'),\n",
       " (0.0024884387, 'property_type_Bed & Breakfast'),\n",
       " (0.0024478617, 'long_term_stays'),\n",
       " (0.0022995314, 'host_greeting'),\n",
       " (0.0022795016, 'parking'),\n",
       " (0.002232823, 'hot_tub_sauna_or_pool'),\n",
       " (0.0021208338, 'Boston'),\n",
       " (0.0020803104, 'accessible'),\n",
       " (0.0020686702, 'host_has_profile_pic'),\n",
       " (0.0020654718, 'air_conditioning'),\n",
       " (0.0020567281, 'host_since_day'),\n",
       " (0.001853188, 'property_type_Townhouse'),\n",
       " (0.0018439433, 'cancellation_policy_flexible'),\n",
       " (0.0018426187, 'private_entrance'),\n",
       " (0.0018172222, 'cancellation_policy_strict'),\n",
       " (0.0018115849, 'bed_type_Couch'),\n",
       " (0.0017903167, 'instant_bookable'),\n",
       " (0.0017212514, 'cancellation_policy_super_strict_30'),\n",
       " (0.0016256323, 'cooking_basics'),\n",
       " (0.0015990894, 'bbq'),\n",
       " (0.0015863857, 'host_identity_verified'),\n",
       " (0.0015602646, 'property_type_Camper/RV'),\n",
       " (0.00155506, 'property_type_Guesthouse'),\n",
       " (0.0015442473, 'property_type_Timeshare'),\n",
       " (0.0015087416, 'smoking_allowed'),\n",
       " (0.001461896, 'property_type_Boat'),\n",
       " (0.0013822628, 'pets_allowed'),\n",
       " (0.0013690948, 'check_in_24h'),\n",
       " (0.0013482523, 'property_type_Villa'),\n",
       " (0.0013114532, 'bed_type_Futon'),\n",
       " (0.0012967243, 'cancellation_policy_moderate'),\n",
       " (0.0012909247, 'coffee_machine'),\n",
       " (0.0012842083, 'secure'),\n",
       " (0.001096399, 'property_type_Bungalow'),\n",
       " (0.001027037, 'property_type_In-law'),\n",
       " (0.0009564971, 'property_type_Guest suite'),\n",
       " (0.0009454519, 'balcony'),\n",
       " (0.00092148886, 'outdoor_space'),\n",
       " (0.0009023121, 'bed_type_Airbed'),\n",
       " (0.0008850955, 'high_end_electronics'),\n",
       " (0.0006419997, 'cancellation_policy_super_strict_60'),\n",
       " (0.00053616305, 'property_type_Boutique hotel'),\n",
       " (2.2381782e-05, 'property_type_Cabin')]"
      ]
     },
     "execution_count": 16,
     "metadata": {},
     "output_type": "execute_result"
    }
   ],
   "source": [
    "sorted_feature_importances = sorted(zip(feature_importances, X.columns), reverse=True)\n",
    "sorted_feature_importances"
   ]
  },
  {
   "cell_type": "code",
   "execution_count": 17,
   "metadata": {},
   "outputs": [
    {
     "data": {
      "text/plain": [
       "44"
      ]
     },
     "execution_count": 17,
     "metadata": {},
     "output_type": "execute_result"
    }
   ],
   "source": [
    "\n",
    "\n",
    "important_columns = [feature_name for importance, feature_name in sorted_feature_importances if importance > 0.002]\n",
    "len(important_columns)"
   ]
  },
  {
   "cell_type": "code",
   "execution_count": 18,
   "metadata": {},
   "outputs": [
    {
     "data": {
      "text/plain": [
       "['room_type_Entire home/apt',\n",
       " 'bathrooms',\n",
       " 'room_type_Private room',\n",
       " 'LA',\n",
       " 'property_type_Hostel',\n",
       " 'accommodates',\n",
       " 'tv',\n",
       " 'SF',\n",
       " 'median_home_value',\n",
       " 'distance_to_center',\n",
       " 'elevator',\n",
       " 'DC',\n",
       " 'property_type_Apartment',\n",
       " 'NYC',\n",
       " 'time_since_last_review',\n",
       " 'property_type_House',\n",
       " 'gym',\n",
       " 'number_of_reviews',\n",
       " 'property_type_Dorm',\n",
       " 'cleaning_fee',\n",
       " 'Chicago',\n",
       " 'white_goods',\n",
       " 'internet',\n",
       " 'thumbnail_url',\n",
       " 'event_suitable',\n",
       " 'property_type_Loft',\n",
       " 'bed_type_Real Bed',\n",
       " 'room_type_Shared room',\n",
       " 'child_friendly',\n",
       " 'property_type_Condominium',\n",
       " 'property_type_Other',\n",
       " 'super_host',\n",
       " 'breakfast',\n",
       " 'bed_type_Pull-out Sofa',\n",
       " 'property_type_Bed & Breakfast',\n",
       " 'long_term_stays',\n",
       " 'host_greeting',\n",
       " 'parking',\n",
       " 'hot_tub_sauna_or_pool',\n",
       " 'Boston',\n",
       " 'accessible',\n",
       " 'host_has_profile_pic',\n",
       " 'air_conditioning',\n",
       " 'host_since_day']"
      ]
     },
     "execution_count": 18,
     "metadata": {},
     "output_type": "execute_result"
    }
   ],
   "source": [
    "important_columns"
   ]
  },
  {
   "attachments": {},
   "cell_type": "markdown",
   "metadata": {},
   "source": [
    "## XGB Tuning"
   ]
  },
  {
   "cell_type": "code",
   "execution_count": 19,
   "metadata": {},
   "outputs": [],
   "source": [
    "#df_random_10_percent = final_df.sample(frac=0.10)\n",
    "X=final_df[important_columns]\n",
    "y=final_df['log_price']\n",
    "x_train, x_test, y_train, y_test = train_test_split(X,y,test_size=0.2,random_state=101)\n"
   ]
  },
  {
   "cell_type": "code",
   "execution_count": 21,
   "metadata": {},
   "outputs": [],
   "source": [
    "# CSV dosyasını kaydediyoruz:\n",
    "x_test.to_csv('test.csv', index=False)  # index=False, indeks sütununu kaydetmeyeceğimizi belirtir.\n"
   ]
  },
  {
   "cell_type": "code",
   "execution_count": 20,
   "metadata": {},
   "outputs": [
    {
     "name": "stdout",
     "output_type": "stream",
     "text": [
      "\n",
      "Mean Absolute Error of XGBoost Regressor     :  0.280595579822764\n",
      "\n",
      "Mean Squarred Error of XGBoost Regressor     :  0.14476004218996988\n",
      "\n",
      "Root Mean Squarred Error of XGBoost Regressor:  0.38047344478947526\n",
      "\n",
      "R2 Score of XGBoost Regressor                :  0.7127277348650749\n"
     ]
    }
   ],
   "source": [
    "from xgboost import XGBRegressor\n",
    "from sklearn import metrics\n",
    "\n",
    "xgb = XGBRegressor(objective='reg:squarederror')\n",
    "\n",
    "xgb.fit(x_train, y_train)\n",
    "\n",
    "y_pred_xgb = xgb.predict(x_test)\n",
    "\n",
    "mae_xgb  = metrics.mean_absolute_error(y_test, y_pred_xgb)\n",
    "mse_xgb  = metrics.mean_squared_error(y_test, y_pred_xgb)\n",
    "rmse_xgb = np.sqrt(metrics.mean_squared_error(y_test, y_pred_xgb))\n",
    "r2_xgb   = metrics.r2_score(y_test, y_pred_xgb)\n",
    "\n",
    "\n",
    "print('\\nMean Absolute Error of XGBoost Regressor     : ', mae_xgb)\n",
    "print('\\nMean Squarred Error of XGBoost Regressor     : ', mse_xgb)\n",
    "print('\\nRoot Mean Squarred Error of XGBoost Regressor: ', rmse_xgb)\n",
    "print('\\nR2 Score of XGBoost Regressor                : ', r2_xgb)"
   ]
  },
  {
   "cell_type": "code",
   "execution_count": null,
   "metadata": {},
   "outputs": [
    {
     "name": "stdout",
     "output_type": "stream",
     "text": [
      "Fitting 10 folds for each of 81 candidates, totalling 810 fits\n"
     ]
    },
    {
     "data": {
      "text/plain": [
       "\"#  'n_estimators':[100, 200, 500, 1000],eski hali calisitrdim ve best params bu cikti:\\n'colsample_bytree': 0.9,\\n 'learning_rate': 0.5,\\n 'max_depth': 3,\\n 'n_estimators': 1000}\\n en son calisan:\\n {'colsample_bytree': 0.6,\\n 'learning_rate': 0.1,\\n 'max_depth': 4,\\n 'n_estimators': 1200}\\n \\n xgb_grid = {\\n     'colsample_bytree': [0.3,0.6,1], \\n     'n_estimators':[1000,1200,1400],\\n     'max_depth': [3,4,5,6],\\n     'learning_rate': [0.05,0.1,0.15,0.20]in sonucu:\\n     \\n colsample_bytree': 0.3,\\n 'learning_rate': 0.05,\\n 'max_depth': 6,\\n 'n_estimators': 1200}\\n \\n \\n \\n {'colsample_bytree': 0.3,\\n 'learning_rate': 0.05,\\n 'max_depth': 8,\\n 'n_estimators': 1000}\\n \\n \\n {'colsample_bytree': 0.3,\\n 'learning_rate': 0.05,\\n 'max_depth': 9,\\n 'n_estimators': 600}\\n \""
      ]
     },
     "execution_count": 58,
     "metadata": {},
     "output_type": "execute_result"
    }
   ],
   "source": [
    "xgb_grid = {\n",
    "     'colsample_bytree': [0.3,0.6,1], \n",
    "     'n_estimators':[1000,1200,1400],\n",
    "     'max_depth': [6,8,10],\n",
    "     'learning_rate': [0.005,0.01,0.05]\n",
    "}\n",
    "xgb = XGBRegressor()\n",
    "\n",
    "xgb_cv = GridSearchCV(xgb, \n",
    "                      param_grid = xgb_grid, \n",
    "                      cv = 10, \n",
    "                      n_jobs = -1,\n",
    "                      verbose = 2)\n",
    "\n",
    "\n",
    "xgb_cv.fit(x_train, y_train)\n",
    "\"\"\"xgb_grid = {\n",
    "     'colsample_bytree': [0.3,0.6,1], \n",
    "     'n_estimators':[1000,1200,1400],\n",
    "     'max_depth': [6,8,10],\n",
    "     'learning_rate': [0.005,0.01,0.05]==========={'colsample_bytree': 0.6,\n",
    " 'learning_rate': 0.01,\n",
    " 'max_depth': 10,\n",
    " 'n_estimators': 1400}\n",
    "     \n",
    " \"\"\""
   ]
  },
  {
   "cell_type": "code",
   "execution_count": null,
   "metadata": {},
   "outputs": [
    {
     "data": {
      "text/plain": [
       "{'colsample_bytree': 0.6,\n",
       " 'learning_rate': 0.01,\n",
       " 'max_depth': 10,\n",
       " 'n_estimators': 1400}"
      ]
     },
     "execution_count": 59,
     "metadata": {},
     "output_type": "execute_result"
    }
   ],
   "source": [
    "xgb_cv.best_params_"
   ]
  },
  {
   "cell_type": "code",
   "execution_count": 22,
   "metadata": {},
   "outputs": [
    {
     "data": {
      "text/plain": [
       "'                     colsample_bytree = 0.6, \\n                         learning_rate = 0.01, \\n                         max_depth = 10, \\n                         n_estimators = 1400,\\n                         subsample = 0.8)\\n\\n                         R2 Score of XGBoost Regressor                :  0.7308815393207089\\n\\n\\n\\n\\n                         colsample_bytree = 0.6, \\n                         learning_rate = 0.01, \\n                         max_depth = 12, \\n                         n_estimators = 1600,\\n                         subsample = 0.8)\\n\\n                         R2 Score of XGBoost Regressor                :  0.7330870584161624\\n \\n'"
      ]
     },
     "execution_count": 22,
     "metadata": {},
     "output_type": "execute_result"
    }
   ],
   "source": [
    "xgb_tuned = XGBRegressor(colsample_bytree = 0.6, \n",
    "                         learning_rate = 0.01, \n",
    "                         max_depth = 12, \n",
    "                         n_estimators = 1600,\n",
    "                         subsample = 0.8) \n",
    "\n",
    "xgb_tuned = xgb_tuned.fit(x_train,y_train)\n",
    "\n",
    "'''                     colsample_bytree = 0.6, \n",
    "                         learning_rate = 0.01, \n",
    "                         max_depth = 10, \n",
    "                         n_estimators = 1400,\n",
    "                         subsample = 0.8)\n",
    "\n",
    "                         R2 Score of XGBoost Regressor                :  0.7308815393207089\n",
    "\n",
    "\n",
    "\n",
    "\n",
    "                         colsample_bytree = 0.6, \n",
    "                         learning_rate = 0.01, \n",
    "                         max_depth = 12, \n",
    "                         n_estimators = 1600,\n",
    "                         subsample = 0.8)\n",
    "\n",
    "                         R2 Score of XGBoost Regressor                :  0.7330870584161624\n",
    " \n",
    "'''"
   ]
  },
  {
   "cell_type": "code",
   "execution_count": 23,
   "metadata": {},
   "outputs": [
    {
     "name": "stdout",
     "output_type": "stream",
     "text": [
      "\n",
      "Mean Absolute Error of XGBoost Regressor     :  0.26835914352609214\n",
      "\n",
      "Mean Squarred Error of XGBoost Regressor     :  0.13450072761663154\n",
      "\n",
      "Root Mean Squarred Error of XGBoost Regressor:  0.36674340841606345\n",
      "\n",
      "R2 Score of XGBoost Regressor                :  0.7330870584161624\n"
     ]
    }
   ],
   "source": [
    "from sklearn.metrics import mean_squared_error, r2_score\n",
    "y_pred = xgb_tuned.predict(x_test)\n",
    "np.sqrt(mean_squared_error(y_test, y_pred))\n",
    "\n",
    "mae_xgb  = metrics.mean_absolute_error(y_test, y_pred)\n",
    "mse_xgb  = metrics.mean_squared_error(y_test, y_pred)\n",
    "rmse_xgb = np.sqrt(metrics.mean_squared_error(y_test, y_pred))\n",
    "r2_xgb   = metrics.r2_score(y_test, y_pred)\n",
    "\n",
    "\n",
    "print('\\nMean Absolute Error of XGBoost Regressor     : ', mae_xgb)\n",
    "print('\\nMean Squarred Error of XGBoost Regressor     : ', mse_xgb)\n",
    "print('\\nRoot Mean Squarred Error of XGBoost Regressor: ', rmse_xgb)\n",
    "print('\\nR2 Score of XGBoost Regressor                : ', r2_xgb)"
   ]
  },
  {
   "cell_type": "code",
   "execution_count": null,
   "metadata": {},
   "outputs": [],
   "source": []
  },
  {
   "cell_type": "code",
   "execution_count": null,
   "metadata": {},
   "outputs": [],
   "source": [
    "\"\"\"tum data defaulut icin\n",
    "Mean Absolute Error of XGBoost Regressor     :  0.2795925161882165\n",
    "\n",
    "Mean Squarred Error of XGBoost Regressor     :  0.14418058411918838\n",
    "\n",
    "Root Mean Squarred Error of XGBoost Regressor:  0.3797111851383738\n",
    "\n",
    "R2 Score of XGBoost Regressor                :  0.7138776532405178\n",
    "\n",
    "\n",
    "importance ile default params(000.4)\n",
    "\n",
    "Mean Absolute Error of XGBoost Regressor     :  0.2808757643863328\n",
    "\n",
    "Mean Squarred Error of XGBoost Regressor     :  0.14515827309834897\n",
    "\n",
    "Root Mean Squarred Error of XGBoost Regressor:  0.3809964213721029\n",
    "\n",
    "R2 Score of XGBoost Regressor                :  0.71193745673745\n",
    "\n",
    "\n",
    "importance ile default params(0.006)\n",
    "0.69\n",
    "\n",
    "importance ile default params(0.003)\n",
    "\n",
    "Mean Absolute Error of XGBoost Regressor     :  0.2865505511198461\n",
    "\n",
    "Mean Squarred Error of XGBoost Regressor     :  0.15081581432985805\n",
    "\n",
    "Root Mean Squarred Error of XGBoost Regressor:  0.3883501182307765\n",
    "\n",
    "R2 Score of XGBoost Regressor                :  0.7007102240005528\n",
    "\n",
    "\"\"\""
   ]
  },
  {
   "cell_type": "code",
   "execution_count": 24,
   "metadata": {},
   "outputs": [],
   "source": [
    "import joblib"
   ]
  },
  {
   "cell_type": "code",
   "execution_count": null,
   "metadata": {},
   "outputs": [
    {
     "data": {
      "text/plain": [
       "['xgb_2.joblib']"
      ]
     },
     "execution_count": 76,
     "metadata": {},
     "output_type": "execute_result"
    }
   ],
   "source": [
    "#joblib.dump(xgb_tuned,'xgb_2.joblib')"
   ]
  },
  {
   "cell_type": "code",
   "execution_count": 25,
   "metadata": {},
   "outputs": [
    {
     "data": {
      "text/plain": [
       "['XGB_model.sav']"
      ]
     },
     "execution_count": 25,
     "metadata": {},
     "output_type": "execute_result"
    }
   ],
   "source": [
    "import joblib\n",
    "filename = 'XGB_model.sav'\n",
    "joblib.dump(xgb_tuned, filename)"
   ]
  },
  {
   "cell_type": "code",
   "execution_count": 1,
   "metadata": {},
   "outputs": [
    {
     "data": {
      "image/png": "[encoded data removed]",
      "text/plain": [
       "<Figure size 1000x600 with 1 Axes>"
      ]
     },
     "metadata": {},
     "output_type": "display_data"
    }
   ],
   "source": [
    "import matplotlib.pyplot as plt\n",
    "\n",
    "# Performans metrikleri ve algoritma isimleri\n",
    "metrics = [\"Mean Absolute Error\", \"Mean Squared Error\", \"Root Mean Squared Error\", \"R2 Score\"]\n",
    "before_tuning_scores = [0.280595579822764, 0.14476004218996988, 0.38047344478947526, 0.7127277348650749]\n",
    "after_tuning_scores = [0.26835914352609214, 0.13450072761663154, 0.36674340841606345, 0.7330870584161624]\n",
    "\n",
    "# Grafik çizimi\n",
    "plt.figure(figsize=(10, 6))\n",
    "\n",
    "# Önceki durum çubukları\n",
    "for i in range(len(metrics)):\n",
    "    plt.bar(i - 0.2, before_tuning_scores[i], width=0.4, align='center', label='Before Tuning')\n",
    "\n",
    "# Ayarlandıktan sonraki durum çubukları\n",
    "for i in range(len(metrics)):\n",
    "    plt.bar(i + 0.2, after_tuning_scores[i], width=0.4, align='center', label='After Tuning')\n",
    "\n",
    "plt.xticks(range(len(metrics)), metrics)\n",
    "plt.ylabel(\"Performans Metrikleri\")\n",
    "plt.legend(loc='best')\n",
    "plt.title(\"XGBoost Performans Before After\")\n",
    "plt.show()\n"
   ]
  }
 ],
 "metadata": {
  "kernelspec": {
   "display_name": "Python 3",
   "language": "python",
   "name": "python3"
  },
  "language_info": {
   "codemirror_mode": {
    "name": "ipython",
    "version": 3
   },
   "file_extension": ".py",
   "mimetype": "text/x-python",
   "name": "python",
   "nbconvert_exporter": "python",
   "pygments_lexer": "ipython3",
   "version": "3.9.4"
  },
  "orig_nbformat": 4
 },
 "nbformat": 4,
 "nbformat_minor": 2
}
