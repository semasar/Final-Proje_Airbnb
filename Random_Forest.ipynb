{
 "cells": [
  {
   "cell_type": "code",
   "execution_count": 1,
   "metadata": {},
   "outputs": [],
   "source": [
    "import numpy as np # linear algebra\n",
    "import pandas as pd # data processing, CSV file I/O (e.g. pd.read_csv)\n",
    "import seaborn as sb\n",
    "from sklearn.preprocessing import  LabelEncoder, StandardScaler\n",
    "from sklearn.model_selection import train_test_split, GridSearchCV, cross_val_score, KFold\n",
    "from sklearn import metrics\n",
    "from sklearn.linear_model import LinearRegression\n",
    "from sklearn.preprocessing import PolynomialFeatures\n",
    "from sklearn.pipeline import Pipeline\n",
    "from catboost import CatBoostRegressor\n",
    "from sklearn.ensemble import GradientBoostingRegressor\n",
    "from xgboost import XGBRegressor\n",
    "from sklearn.ensemble import RandomForestRegressor\n",
    "pd.options.display.max_columns = 0"
   ]
  },
  {
   "cell_type": "code",
   "execution_count": 2,
   "metadata": {},
   "outputs": [],
   "source": [
    "final_df = pd.read_csv('df_final.csv')"
   ]
  },
  {
   "cell_type": "code",
   "execution_count": 29,
   "metadata": {},
   "outputs": [],
   "source": [
    "# df_random_10_percent = final_df.sample(frac=0.10)\n",
    "\n",
    "X = final_df.drop(['log_price'], axis =1)\n",
    "y = final_df.log_price"
   ]
  },
  {
   "cell_type": "code",
   "execution_count": 30,
   "metadata": {},
   "outputs": [],
   "source": [
    "x_train, x_test, y_train, y_test = train_test_split(X,y,test_size=0.2,random_state=101)"
   ]
  },
  {
   "cell_type": "code",
   "execution_count": 31,
   "metadata": {},
   "outputs": [
    {
     "name": "stdout",
     "output_type": "stream",
     "text": [
      "\n",
      "Mean Absolute Error of Random Forest Regressor     :  0.28595979304789093\n",
      "\n",
      "Mean Squared Error of Random Forest Regressor      :  0.15235474821894293\n",
      "\n",
      "Root Mean Squared Error of Random Forest Regressor  :  0.39032646364158163\n",
      "\n",
      "R2 Score of Random Forest Regressor                :  0.6976562526316432\n"
     ]
    }
   ],
   "source": [
    "rfr = RandomForestRegressor() # n_estimators=100, max_depth=6\n",
    "rfr.fit(x_train, y_train)\n",
    "y_pred_rfr = rfr.predict(x_test)\n",
    "mae_rfr  = metrics.mean_absolute_error(y_test, y_pred_rfr)\n",
    "mse_rfr  = metrics.mean_squared_error(y_test, y_pred_rfr)\n",
    "rmse_rfr = np.sqrt(mse_rfr)\n",
    "r2_rfr   = metrics.r2_score(y_test, y_pred_rfr)\n",
    "print('\\nMean Absolute Error of Random Forest Regressor     : ', mae_rfr)\n",
    "print('\\nMean Squared Error of Random Forest Regressor      : ', mse_rfr)\n",
    "print('\\nRoot Mean Squared Error of Random Forest Regressor  : ', rmse_rfr)\n",
    "print('\\nR2 Score of Random Forest Regressor                : ', r2_rfr)"
   ]
  },
  {
   "cell_type": "code",
   "execution_count": 32,
   "metadata": {},
   "outputs": [],
   "source": [
    "feature_importances = rfr.feature_importances_"
   ]
  },
  {
   "cell_type": "code",
   "execution_count": 33,
   "metadata": {},
   "outputs": [
    {
     "data": {
      "text/plain": [
       "43"
      ]
     },
     "execution_count": 33,
     "metadata": {},
     "output_type": "execute_result"
    }
   ],
   "source": [
    "# We examine feature_importance to choose most important columns\n",
    "\n",
    "\n",
    "sorted_feature_importances = sorted(zip(feature_importances, X.columns), reverse=True)\n",
    "important_columns = [feature_name for importance, feature_name in sorted_feature_importances if importance > 0.003]\n",
    "len(important_columns)\n"
   ]
  },
  {
   "cell_type": "markdown",
   "metadata": {},
   "source": [
    "### Scores and errors with important columns"
   ]
  },
  {
   "cell_type": "code",
   "execution_count": 34,
   "metadata": {},
   "outputs": [],
   "source": [
    "# Set important columns as columns to work with\n",
    "\n",
    "X = final_df[important_columns]\n",
    "y = final_df.log_price"
   ]
  },
  {
   "cell_type": "code",
   "execution_count": 35,
   "metadata": {},
   "outputs": [
    {
     "name": "stdout",
     "output_type": "stream",
     "text": [
      "\n",
      "Mean Absolute Error of Random Forest Regressor     :  0.28853296290884806\n",
      "\n",
      "Mean Squared Error of Random Forest Regressor      :  0.15495917477061832\n",
      "\n",
      "Root Mean Squared Error of Random Forest Regressor  :  0.39364854219292916\n",
      "\n",
      "R2 Score of Random Forest Regressor                :  0.6924878407994921\n"
     ]
    }
   ],
   "source": [
    "x_train, x_test, y_train, y_test = train_test_split(X,y,test_size=0.2,random_state=101)\n",
    "\n",
    "rfr2 = RandomForestRegressor() # n_estimators=100, max_depth=6\n",
    "rfr2.fit(x_train, y_train)\n",
    "y_pred_rfr2 = rfr2.predict(x_test)\n",
    "mae_rfr2  = metrics.mean_absolute_error(y_test, y_pred_rfr2)\n",
    "mse_rfr2  = metrics.mean_squared_error(y_test, y_pred_rfr2)\n",
    "rmse_rfr2 = np.sqrt(mse_rfr2)\n",
    "r2_rfr2   = metrics.r2_score(y_test, y_pred_rfr2)\n",
    "print('\\nMean Absolute Error of Random Forest Regressor     : ', mae_rfr2)\n",
    "print('\\nMean Squared Error of Random Forest Regressor      : ', mse_rfr2)\n",
    "print('\\nRoot Mean Squared Error of Random Forest Regressor  : ', rmse_rfr2)\n",
    "print('\\nR2 Score of Random Forest Regressor                : ', r2_rfr2)"
   ]
  },
  {
   "cell_type": "code",
   "execution_count": null,
   "metadata": {},
   "outputs": [],
   "source": []
  },
  {
   "cell_type": "code",
   "execution_count": null,
   "metadata": {},
   "outputs": [],
   "source": [
    "'''\n",
    "All data 101 with default params\n",
    "\n",
    "Mean Absolute Error of Random Forest Regressor     :  0.2849119457197387\n",
    "\n",
    "Mean Squared Error of Random Forest Regressor      :  0.1515926821211943\n",
    "\n",
    "Root Mean Squared Error of Random Forest Regressor  :  0.389349049210595\n",
    "\n",
    "R2 Score of Random Forest Regressor                :  0.6991685515421084\n",
    "\n",
    "\n",
    "important data 8 ( 0.01) with default params\n",
    "\n",
    "Mean Absolute Error of Random Forest Regressor     :  0.32029176175101015\n",
    "\n",
    "Mean Squared Error of Random Forest Regressor      :  0.18819495858652988\n",
    "\n",
    "Root Mean Squared Error of Random Forest Regressor  :  0.43381442874405396\n",
    "\n",
    "R2 Score of Random Forest Regressor                :  0.6265323550460269\n",
    "\n",
    "\n",
    "important data 23 ( 0.005) with default params\n",
    "\n",
    "Mean Absolute Error of Random Forest Regressor     :  0.29549222068961567\n",
    "\n",
    "Mean Squared Error of Random Forest Regressor      :  0.16211265625951146\n",
    "\n",
    "Root Mean Squared Error of Random Forest Regressor  :  0.4026321599916125\n",
    "\n",
    "R2 Score of Random Forest Regressor                :  0.6782919563563369\n",
    "\n",
    "\n",
    "\n",
    "important data 43 ( 0.003) with default params. WE chose this one\n",
    "\n",
    "Mean Absolute Error of Random Forest Regressor     :  0.28853296290884806\n",
    "\n",
    "Mean Squared Error of Random Forest Regressor      :  0.15495917477061832\n",
    "\n",
    "Root Mean Squared Error of Random Forest Regressor  :  0.39364854219292916\n",
    "\n",
    "R2 Score of Random Forest Regressor                :  0.6924878407994921\n",
    "\n",
    "\n",
    "\n",
    "'''"
   ]
  }
 ],
 "metadata": {
  "kernelspec": {
   "display_name": "Python 3",
   "language": "python",
   "name": "python3"
  },
  "language_info": {
   "codemirror_mode": {
    "name": "ipython",
    "version": 3
   },
   "file_extension": ".py",
   "mimetype": "text/x-python",
   "name": "python",
   "nbconvert_exporter": "python",
   "pygments_lexer": "ipython3",
   "version": "3.9.6"
  },
  "orig_nbformat": 4
 },
 "nbformat": 4,
 "nbformat_minor": 2
}
