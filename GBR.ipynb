{
 "cells": [
  {
   "cell_type": "code",
   "execution_count": 82,
   "metadata": {},
   "outputs": [],
   "source": [
    "import pandas as pd\n",
    "from sklearn.model_selection import train_test_split\n",
    "from sklearn.ensemble import GradientBoostingRegressor\n",
    "from sklearn.model_selection import GridSearchCV\n",
    "from sklearn.metrics import mean_squared_error\n",
    "from sklearn import metrics\n",
    "import numpy as np\n",
    "\n"
   ]
  },
  {
   "cell_type": "code",
   "execution_count": 83,
   "metadata": {},
   "outputs": [],
   "source": [
    "final_df = pd.read_csv('df_final.csv')"
   ]
  },
  {
   "cell_type": "code",
   "execution_count": 84,
   "metadata": {},
   "outputs": [],
   "source": [
    "\n",
    "final_df_10 = final_df.sample(frac=0.10)\n",
    "X = final_df.drop(['log_price'], axis =1)\n",
    "y = final_df.log_price"
   ]
  },
  {
   "cell_type": "code",
   "execution_count": 85,
   "metadata": {},
   "outputs": [],
   "source": [
    "x_train, x_test, y_train, y_test = train_test_split(X, y, test_size=0.2, random_state=42)"
   ]
  },
  {
   "cell_type": "code",
   "execution_count": 86,
   "metadata": {},
   "outputs": [
    {
     "name": "stdout",
     "output_type": "stream",
     "text": [
      "\n",
      "Mean Absolute Error of Gradient Boosting     :  0.3059253650749348\n",
      "\n",
      "Mean Squarred Error of Gradient Boosting     :  0.1696451814795339\n",
      "\n",
      "Root Mean Squarred Error of Gradient Boosting:  0.41188005715199894\n",
      "\n",
      "R2 Score of Gradient Boosting                :  0.6613985941338612\n"
     ]
    }
   ],
   "source": [
    "gb = GradientBoostingRegressor(n_estimators=100, learning_rate=0.1, max_depth=3)\n",
    "\n",
    "gb.fit(x_train, y_train)\n",
    "\n",
    "y_pred_gb = gb.predict(x_test)\n",
    "\n",
    "mae_gb  = metrics.mean_absolute_error(y_test, y_pred_gb)\n",
    "mse_gb  = metrics.mean_squared_error(y_test, y_pred_gb)\n",
    "rmse_gb = np.sqrt(metrics.mean_squared_error(y_test, y_pred_gb))\n",
    "r2_gb   = metrics.r2_score(y_test, y_pred_gb)\n",
    "\n",
    "\n",
    "print('\\nMean Absolute Error of Gradient Boosting     : ', mae_gb)\n",
    "print('\\nMean Squarred Error of Gradient Boosting     : ', mse_gb)\n",
    "print('\\nRoot Mean Squarred Error of Gradient Boosting: ', rmse_gb)\n",
    "print('\\nR2 Score of Gradient Boosting                : ', r2_gb)"
   ]
  },
  {
   "cell_type": "code",
   "execution_count": 87,
   "metadata": {},
   "outputs": [
    {
     "data": {
      "text/plain": [
       "18"
      ]
     },
     "execution_count": 87,
     "metadata": {},
     "output_type": "execute_result"
    }
   ],
   "source": [
    "# Find important columns\n",
    "feature_importances = gb.feature_importances_\n",
    "sorted_feature_importances = sorted(zip(feature_importances, X.columns), reverse=True)\n",
    "important_columns = [feature_name for importance, feature_name in sorted_feature_importances if importance > 0.004]\n",
    "len(important_columns)\n"
   ]
  },
  {
   "cell_type": "code",
   "execution_count": 64,
   "metadata": {},
   "outputs": [],
   "source": [
    "# Tuning control\n",
    "\n",
    "# X = final_df_10[important_columns]\n",
    "# y = final_df_10.log_price"
   ]
  },
  {
   "cell_type": "code",
   "execution_count": 88,
   "metadata": {},
   "outputs": [],
   "source": [
    "# Final tuning\n",
    "\n",
    "X = final_df[important_columns]\n",
    "y = final_df.log_price"
   ]
  },
  {
   "cell_type": "code",
   "execution_count": 89,
   "metadata": {},
   "outputs": [],
   "source": [
    "import pandas as pd\n",
    "from sklearn.model_selection import train_test_split\n",
    "from sklearn.ensemble import GradientBoostingRegressor\n",
    "from sklearn.model_selection import GridSearchCV\n",
    "from sklearn.metrics import mean_squared_error\n",
    "\n",
    "\n",
    "X_train, X_test, y_train, y_test = train_test_split(X, y, test_size=0.2, random_state=42)\n",
    "\n",
    "# Grid Search için parametreler ve değer aralıkları belirleyin\n",
    "param_grid = {\n",
    "    'n_estimators': [900,1100,1200],  # Ağaç sayısı\n",
    "    'learning_rate': [0.01],  # Öğrenme oranı\n",
    "    'max_depth': [1,3,5],  # Ağaçların maksimum derinliği\n",
    "    'min_samples_split': [12],  # Ağaçları bölmek için minimum örnek sayısı\n",
    "}\n",
    "\n",
    "# Gradient Boosting Regressor modelini oluşturun\n",
    "gbr_model = GradientBoostingRegressor(random_state=42)\n",
    "\n",
    "# Grid Search işlemini gerçekleştirin\n",
    "grid_search = GridSearchCV(estimator=gbr_model, param_grid=param_grid, cv=3)\n",
    "grid_search.fit(X_train, y_train)\n",
    "\n",
    "# En iyi parametreleri ve sonucu gösterin\n",
    "print(\"En iyi parametreler:\", grid_search.best_params_)\n",
    "print(\"En iyi R^2 skoru:\", grid_search.best_score_)\n",
    "\n",
    "# En iyi modeli alın\n",
    "best_model = grid_search.best_estimator_\n",
    "\n",
    "# Test verileri üzerinde performansını değerlendirin\n",
    "y_pred = best_model.predict(X_test)\n",
    "\n",
    "mae  = metrics.mean_absolute_error(y_test, y_pred)\n",
    "mse  = metrics.mean_squared_error(y_test, y_pred)\n",
    "rmse = np.sqrt(metrics.mean_squared_error(y_test, y_pred))\n",
    "r2   = metrics.r2_score(y_test, y_pred)\n",
    "\n",
    "print('\\nMean Absolute Error      : ', mae)\n",
    "print('\\nMean Squarred Error      : ', mse)\n",
    "print('\\nRoot Mean Squarred       : ', rmse)\n",
    "print('\\nR2 Score                 : ', r2)\n",
    "\n",
    "\n"
   ]
  },
  {
   "cell_type": "markdown",
   "metadata": {},
   "source": [
    "En iyi parametreler: {'learning_rate': 0.1, 'max_depth': 5, 'min_samples_split': 10, 'n_estimators': 200}\n",
    "En iyi R^2 skoru: 0.6453870379463805\n",
    "Mean Squared Error (MSE): 0.14897454776957175"
   ]
  },
  {
   "cell_type": "code",
   "execution_count": 32,
   "metadata": {},
   "outputs": [],
   "source": [
    "gbm_tuned = GradientBoostingRegressor(learning_rate = 0.01,  \n",
    "                                      max_depth = 7, \n",
    "                                      n_estimators = 300, \n",
    "                                      subsample = 0.5,\n",
    "                                      min_samples_split = 12)\n",
    "\n",
    "gbm_tuned = gbm_tuned.fit(X_train,y_train)\n",
    "y_pred = gbm_tuned.predict(X_test)"
   ]
  },
  {
   "cell_type": "code",
   "execution_count": 34,
   "metadata": {},
   "outputs": [
    {
     "name": "stdout",
     "output_type": "stream",
     "text": [
      "\n",
      "Mean Absolute Error of Gradient Boosting     :  0.28081734627831795\n",
      "\n",
      "Mean Squarred Error of Gradient Boosting     :  0.1458273350655173\n",
      "\n",
      "Root Mean Squarred Error of Gradient Boosting:  0.3818734542561414\n",
      "\n",
      "R2 Score of Gradient Boosting                :  0.7089375587549267\n"
     ]
    }
   ],
   "source": [
    "\n",
    "mae  = metrics.mean_absolute_error(y_test, y_pred)\n",
    "mse  = metrics.mean_squared_error(y_test, y_pred)\n",
    "rmse = np.sqrt(metrics.mean_squared_error(y_test, y_pred))\n",
    "r2   = metrics.r2_score(y_test, y_pred)\n",
    "\n",
    "\n",
    "print('\\nMean Absolute Error of Gradient Boosting     : ', mae)\n",
    "print('\\nMean Squarred Error of Gradient Boosting     : ', mse)\n",
    "print('\\nRoot Mean Squarred Error of Gradient Boosting: ', rmse)\n",
    "print('\\nR2 Score of Gradient Boosting                : ', r2)"
   ]
  },
  {
   "cell_type": "code",
   "execution_count": null,
   "metadata": {},
   "outputs": [],
   "source": [
    "''' Best param with important columns\n",
    "\n",
    "Mean Absolute Error of Gradient Boosting     :  0.31347978774129803\n",
    "\n",
    "Mean Squarred Error of Gradient Boosting     :  0.1799604177081631\n",
    "\n",
    "Root Mean Squarred Error of Gradient Boosting:  0.42421741796885604\n",
    "\n",
    "R2 Score of Gradient Boosting                :  0.640810013554126\n",
    "\n",
    "\n",
    "    Best param all columns\n",
    "    \n",
    "Mean Absolute Error of Gradient Boosting     :  0.28081734627831795\n",
    "\n",
    "Mean Squarred Error of Gradient Boosting     :  0.1458273350655173\n",
    "\n",
    "Root Mean Squarred Error of Gradient Boosting:  0.3818734542561414\n",
    "\n",
    "R2 Score of Gradient Boosting                :  0.7089375587549267\n",
    "\n",
    "\n",
    "    default params all columns\n",
    "\n",
    "\n",
    "Mean Absolute Error of Gradient Boosting     :  0.3059637993918744\n",
    "\n",
    "Mean Squarred Error of Gradient Boosting     :  0.1696998722661488\n",
    "\n",
    "Root Mean Squarred Error of Gradient Boosting:  0.41194644344398557\n",
    "\n",
    "R2 Score of Gradient Boosting                :  0.6612894346689461\n",
    "\n",
    "\n",
    "    default params important columns\n",
    "\n",
    "\n",
    "Mean Absolute Error of Gradient Boosting     :  0.32492603663969094\n",
    "\n",
    "Mean Squarred Error of Gradient Boosting     :  0.1918796071381001\n",
    "\n",
    "Root Mean Squarred Error of Gradient Boosting:  0.43804064553201005\n",
    "\n",
    "R2 Score of Gradient Boosting                :  0.6170200404905624\n",
    "\n",
    "\n",
    "\n",
    "0.001\n",
    "Mean Absolute Error of Gradient Boosting     :  0.30602696567315296\n",
    "\n",
    "Mean Squarred Error of Gradient Boosting     :  0.17010975095859518\n",
    "\n",
    "Root Mean Squarred Error of Gradient Boosting:  0.4124436336744637\n",
    "\n",
    "R2 Score of Gradient Boosting                :  0.6604713418691004\n",
    "\n",
    "\n",
    "\n",
    "0.005\n",
    "Mean Absolute Error of Gradient Boosting     :  0.31335393396530126\n",
    "\n",
    "Mean Squarred Error of Gradient Boosting     :  0.17809808695935264\n",
    "\n",
    "Root Mean Squarred Error of Gradient Boosting:  0.42201669038007567\n",
    "\n",
    "R2 Score of Gradient Boosting                :  0.6445271118190776\n",
    "\n",
    "\n",
    "\n",
    "0.004\n",
    "Mean Absolute Error of Gradient Boosting     :  0.3106074203513541\n",
    "\n",
    "Mean Squarred Error of Gradient Boosting     :  0.17492027520908043\n",
    "\n",
    "Root Mean Squarred Error of Gradient Boosting:  0.4182347130608367\n",
    "\n",
    "R2 Score of Gradient Boosting                :  0.6508698297014002\n",
    "'''\n"
   ]
  }
 ],
 "metadata": {
  "kernelspec": {
   "display_name": "Python 3",
   "language": "python",
   "name": "python3"
  },
  "language_info": {
   "codemirror_mode": {
    "name": "ipython",
    "version": 3
   },
   "file_extension": ".py",
   "mimetype": "text/x-python",
   "name": "python",
   "nbconvert_exporter": "python",
   "pygments_lexer": "ipython3",
   "version": "3.10.5"
  },
  "orig_nbformat": 4
 },
 "nbformat": 4,
 "nbformat_minor": 2
}
